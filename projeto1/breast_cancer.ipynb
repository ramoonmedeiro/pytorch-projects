{
 "cells": [
  {
   "cell_type": "code",
   "execution_count": 2,
   "metadata": {},
   "outputs": [],
   "source": [
    "import torch\n",
    "from torch import nn\n",
    "import pandas as pd\n",
    "import numpy as np"
   ]
  },
  {
   "attachments": {},
   "cell_type": "markdown",
   "metadata": {},
   "source": [
    "# Preparando o dataset "
   ]
  },
  {
   "cell_type": "code",
   "execution_count": 4,
   "metadata": {},
   "outputs": [],
   "source": [
    "data = pd.read_csv('../datasets/breast-cancer.csv')"
   ]
  },
  {
   "cell_type": "code",
   "execution_count": 5,
   "metadata": {},
   "outputs": [
    {
     "data": {
      "text/plain": [
       "Index(['id', 'diagnosis', 'radius_mean', 'texture_mean', 'perimeter_mean',\n",
       "       'area_mean', 'smoothness_mean', 'compactness_mean', 'concavity_mean',\n",
       "       'concave points_mean', 'symmetry_mean', 'fractal_dimension_mean',\n",
       "       'radius_se', 'texture_se', 'perimeter_se', 'area_se', 'smoothness_se',\n",
       "       'compactness_se', 'concavity_se', 'concave points_se', 'symmetry_se',\n",
       "       'fractal_dimension_se', 'radius_worst', 'texture_worst',\n",
       "       'perimeter_worst', 'area_worst', 'smoothness_worst',\n",
       "       'compactness_worst', 'concavity_worst', 'concave points_worst',\n",
       "       'symmetry_worst', 'fractal_dimension_worst', 'Unnamed: 32'],\n",
       "      dtype='object')"
      ]
     },
     "execution_count": 5,
     "metadata": {},
     "output_type": "execute_result"
    }
   ],
   "source": [
    "data.columns"
   ]
  },
  {
   "cell_type": "code",
   "execution_count": 6,
   "metadata": {},
   "outputs": [],
   "source": [
    "X = data.drop(['Unnamed: 32', 'id', 'diagnosis'], axis=1)\n",
    "y = data['diagnosis']"
   ]
  },
  {
   "cell_type": "code",
   "execution_count": 7,
   "metadata": {},
   "outputs": [],
   "source": [
    "y = y.apply(lambda x: 1 if x == 'M' else 0)"
   ]
  },
  {
   "cell_type": "code",
   "execution_count": 8,
   "metadata": {},
   "outputs": [
    {
     "data": {
      "text/plain": [
       "0      1\n",
       "1      1\n",
       "2      1\n",
       "3      1\n",
       "4      1\n",
       "      ..\n",
       "564    1\n",
       "565    1\n",
       "566    1\n",
       "567    1\n",
       "568    0\n",
       "Name: diagnosis, Length: 569, dtype: int64"
      ]
     },
     "execution_count": 8,
     "metadata": {},
     "output_type": "execute_result"
    }
   ],
   "source": [
    "y"
   ]
  },
  {
   "cell_type": "code",
   "execution_count": 9,
   "metadata": {},
   "outputs": [
    {
     "data": {
      "text/html": [
       "<div>\n",
       "<style scoped>\n",
       "    .dataframe tbody tr th:only-of-type {\n",
       "        vertical-align: middle;\n",
       "    }\n",
       "\n",
       "    .dataframe tbody tr th {\n",
       "        vertical-align: top;\n",
       "    }\n",
       "\n",
       "    .dataframe thead th {\n",
       "        text-align: right;\n",
       "    }\n",
       "</style>\n",
       "<table border=\"1\" class=\"dataframe\">\n",
       "  <thead>\n",
       "    <tr style=\"text-align: right;\">\n",
       "      <th></th>\n",
       "      <th>radius_mean</th>\n",
       "      <th>texture_mean</th>\n",
       "      <th>perimeter_mean</th>\n",
       "      <th>area_mean</th>\n",
       "      <th>smoothness_mean</th>\n",
       "      <th>compactness_mean</th>\n",
       "      <th>concavity_mean</th>\n",
       "      <th>concave points_mean</th>\n",
       "      <th>symmetry_mean</th>\n",
       "      <th>fractal_dimension_mean</th>\n",
       "      <th>...</th>\n",
       "      <th>radius_worst</th>\n",
       "      <th>texture_worst</th>\n",
       "      <th>perimeter_worst</th>\n",
       "      <th>area_worst</th>\n",
       "      <th>smoothness_worst</th>\n",
       "      <th>compactness_worst</th>\n",
       "      <th>concavity_worst</th>\n",
       "      <th>concave points_worst</th>\n",
       "      <th>symmetry_worst</th>\n",
       "      <th>fractal_dimension_worst</th>\n",
       "    </tr>\n",
       "  </thead>\n",
       "  <tbody>\n",
       "    <tr>\n",
       "      <th>0</th>\n",
       "      <td>17.99</td>\n",
       "      <td>10.38</td>\n",
       "      <td>122.80</td>\n",
       "      <td>1001.0</td>\n",
       "      <td>0.11840</td>\n",
       "      <td>0.27760</td>\n",
       "      <td>0.30010</td>\n",
       "      <td>0.14710</td>\n",
       "      <td>0.2419</td>\n",
       "      <td>0.07871</td>\n",
       "      <td>...</td>\n",
       "      <td>25.380</td>\n",
       "      <td>17.33</td>\n",
       "      <td>184.60</td>\n",
       "      <td>2019.0</td>\n",
       "      <td>0.16220</td>\n",
       "      <td>0.66560</td>\n",
       "      <td>0.7119</td>\n",
       "      <td>0.2654</td>\n",
       "      <td>0.4601</td>\n",
       "      <td>0.11890</td>\n",
       "    </tr>\n",
       "    <tr>\n",
       "      <th>1</th>\n",
       "      <td>20.57</td>\n",
       "      <td>17.77</td>\n",
       "      <td>132.90</td>\n",
       "      <td>1326.0</td>\n",
       "      <td>0.08474</td>\n",
       "      <td>0.07864</td>\n",
       "      <td>0.08690</td>\n",
       "      <td>0.07017</td>\n",
       "      <td>0.1812</td>\n",
       "      <td>0.05667</td>\n",
       "      <td>...</td>\n",
       "      <td>24.990</td>\n",
       "      <td>23.41</td>\n",
       "      <td>158.80</td>\n",
       "      <td>1956.0</td>\n",
       "      <td>0.12380</td>\n",
       "      <td>0.18660</td>\n",
       "      <td>0.2416</td>\n",
       "      <td>0.1860</td>\n",
       "      <td>0.2750</td>\n",
       "      <td>0.08902</td>\n",
       "    </tr>\n",
       "    <tr>\n",
       "      <th>2</th>\n",
       "      <td>19.69</td>\n",
       "      <td>21.25</td>\n",
       "      <td>130.00</td>\n",
       "      <td>1203.0</td>\n",
       "      <td>0.10960</td>\n",
       "      <td>0.15990</td>\n",
       "      <td>0.19740</td>\n",
       "      <td>0.12790</td>\n",
       "      <td>0.2069</td>\n",
       "      <td>0.05999</td>\n",
       "      <td>...</td>\n",
       "      <td>23.570</td>\n",
       "      <td>25.53</td>\n",
       "      <td>152.50</td>\n",
       "      <td>1709.0</td>\n",
       "      <td>0.14440</td>\n",
       "      <td>0.42450</td>\n",
       "      <td>0.4504</td>\n",
       "      <td>0.2430</td>\n",
       "      <td>0.3613</td>\n",
       "      <td>0.08758</td>\n",
       "    </tr>\n",
       "    <tr>\n",
       "      <th>3</th>\n",
       "      <td>11.42</td>\n",
       "      <td>20.38</td>\n",
       "      <td>77.58</td>\n",
       "      <td>386.1</td>\n",
       "      <td>0.14250</td>\n",
       "      <td>0.28390</td>\n",
       "      <td>0.24140</td>\n",
       "      <td>0.10520</td>\n",
       "      <td>0.2597</td>\n",
       "      <td>0.09744</td>\n",
       "      <td>...</td>\n",
       "      <td>14.910</td>\n",
       "      <td>26.50</td>\n",
       "      <td>98.87</td>\n",
       "      <td>567.7</td>\n",
       "      <td>0.20980</td>\n",
       "      <td>0.86630</td>\n",
       "      <td>0.6869</td>\n",
       "      <td>0.2575</td>\n",
       "      <td>0.6638</td>\n",
       "      <td>0.17300</td>\n",
       "    </tr>\n",
       "    <tr>\n",
       "      <th>4</th>\n",
       "      <td>20.29</td>\n",
       "      <td>14.34</td>\n",
       "      <td>135.10</td>\n",
       "      <td>1297.0</td>\n",
       "      <td>0.10030</td>\n",
       "      <td>0.13280</td>\n",
       "      <td>0.19800</td>\n",
       "      <td>0.10430</td>\n",
       "      <td>0.1809</td>\n",
       "      <td>0.05883</td>\n",
       "      <td>...</td>\n",
       "      <td>22.540</td>\n",
       "      <td>16.67</td>\n",
       "      <td>152.20</td>\n",
       "      <td>1575.0</td>\n",
       "      <td>0.13740</td>\n",
       "      <td>0.20500</td>\n",
       "      <td>0.4000</td>\n",
       "      <td>0.1625</td>\n",
       "      <td>0.2364</td>\n",
       "      <td>0.07678</td>\n",
       "    </tr>\n",
       "    <tr>\n",
       "      <th>...</th>\n",
       "      <td>...</td>\n",
       "      <td>...</td>\n",
       "      <td>...</td>\n",
       "      <td>...</td>\n",
       "      <td>...</td>\n",
       "      <td>...</td>\n",
       "      <td>...</td>\n",
       "      <td>...</td>\n",
       "      <td>...</td>\n",
       "      <td>...</td>\n",
       "      <td>...</td>\n",
       "      <td>...</td>\n",
       "      <td>...</td>\n",
       "      <td>...</td>\n",
       "      <td>...</td>\n",
       "      <td>...</td>\n",
       "      <td>...</td>\n",
       "      <td>...</td>\n",
       "      <td>...</td>\n",
       "      <td>...</td>\n",
       "      <td>...</td>\n",
       "    </tr>\n",
       "    <tr>\n",
       "      <th>564</th>\n",
       "      <td>21.56</td>\n",
       "      <td>22.39</td>\n",
       "      <td>142.00</td>\n",
       "      <td>1479.0</td>\n",
       "      <td>0.11100</td>\n",
       "      <td>0.11590</td>\n",
       "      <td>0.24390</td>\n",
       "      <td>0.13890</td>\n",
       "      <td>0.1726</td>\n",
       "      <td>0.05623</td>\n",
       "      <td>...</td>\n",
       "      <td>25.450</td>\n",
       "      <td>26.40</td>\n",
       "      <td>166.10</td>\n",
       "      <td>2027.0</td>\n",
       "      <td>0.14100</td>\n",
       "      <td>0.21130</td>\n",
       "      <td>0.4107</td>\n",
       "      <td>0.2216</td>\n",
       "      <td>0.2060</td>\n",
       "      <td>0.07115</td>\n",
       "    </tr>\n",
       "    <tr>\n",
       "      <th>565</th>\n",
       "      <td>20.13</td>\n",
       "      <td>28.25</td>\n",
       "      <td>131.20</td>\n",
       "      <td>1261.0</td>\n",
       "      <td>0.09780</td>\n",
       "      <td>0.10340</td>\n",
       "      <td>0.14400</td>\n",
       "      <td>0.09791</td>\n",
       "      <td>0.1752</td>\n",
       "      <td>0.05533</td>\n",
       "      <td>...</td>\n",
       "      <td>23.690</td>\n",
       "      <td>38.25</td>\n",
       "      <td>155.00</td>\n",
       "      <td>1731.0</td>\n",
       "      <td>0.11660</td>\n",
       "      <td>0.19220</td>\n",
       "      <td>0.3215</td>\n",
       "      <td>0.1628</td>\n",
       "      <td>0.2572</td>\n",
       "      <td>0.06637</td>\n",
       "    </tr>\n",
       "    <tr>\n",
       "      <th>566</th>\n",
       "      <td>16.60</td>\n",
       "      <td>28.08</td>\n",
       "      <td>108.30</td>\n",
       "      <td>858.1</td>\n",
       "      <td>0.08455</td>\n",
       "      <td>0.10230</td>\n",
       "      <td>0.09251</td>\n",
       "      <td>0.05302</td>\n",
       "      <td>0.1590</td>\n",
       "      <td>0.05648</td>\n",
       "      <td>...</td>\n",
       "      <td>18.980</td>\n",
       "      <td>34.12</td>\n",
       "      <td>126.70</td>\n",
       "      <td>1124.0</td>\n",
       "      <td>0.11390</td>\n",
       "      <td>0.30940</td>\n",
       "      <td>0.3403</td>\n",
       "      <td>0.1418</td>\n",
       "      <td>0.2218</td>\n",
       "      <td>0.07820</td>\n",
       "    </tr>\n",
       "    <tr>\n",
       "      <th>567</th>\n",
       "      <td>20.60</td>\n",
       "      <td>29.33</td>\n",
       "      <td>140.10</td>\n",
       "      <td>1265.0</td>\n",
       "      <td>0.11780</td>\n",
       "      <td>0.27700</td>\n",
       "      <td>0.35140</td>\n",
       "      <td>0.15200</td>\n",
       "      <td>0.2397</td>\n",
       "      <td>0.07016</td>\n",
       "      <td>...</td>\n",
       "      <td>25.740</td>\n",
       "      <td>39.42</td>\n",
       "      <td>184.60</td>\n",
       "      <td>1821.0</td>\n",
       "      <td>0.16500</td>\n",
       "      <td>0.86810</td>\n",
       "      <td>0.9387</td>\n",
       "      <td>0.2650</td>\n",
       "      <td>0.4087</td>\n",
       "      <td>0.12400</td>\n",
       "    </tr>\n",
       "    <tr>\n",
       "      <th>568</th>\n",
       "      <td>7.76</td>\n",
       "      <td>24.54</td>\n",
       "      <td>47.92</td>\n",
       "      <td>181.0</td>\n",
       "      <td>0.05263</td>\n",
       "      <td>0.04362</td>\n",
       "      <td>0.00000</td>\n",
       "      <td>0.00000</td>\n",
       "      <td>0.1587</td>\n",
       "      <td>0.05884</td>\n",
       "      <td>...</td>\n",
       "      <td>9.456</td>\n",
       "      <td>30.37</td>\n",
       "      <td>59.16</td>\n",
       "      <td>268.6</td>\n",
       "      <td>0.08996</td>\n",
       "      <td>0.06444</td>\n",
       "      <td>0.0000</td>\n",
       "      <td>0.0000</td>\n",
       "      <td>0.2871</td>\n",
       "      <td>0.07039</td>\n",
       "    </tr>\n",
       "  </tbody>\n",
       "</table>\n",
       "<p>569 rows × 30 columns</p>\n",
       "</div>"
      ],
      "text/plain": [
       "     radius_mean  texture_mean  perimeter_mean  area_mean  smoothness_mean  \\\n",
       "0          17.99         10.38          122.80     1001.0          0.11840   \n",
       "1          20.57         17.77          132.90     1326.0          0.08474   \n",
       "2          19.69         21.25          130.00     1203.0          0.10960   \n",
       "3          11.42         20.38           77.58      386.1          0.14250   \n",
       "4          20.29         14.34          135.10     1297.0          0.10030   \n",
       "..           ...           ...             ...        ...              ...   \n",
       "564        21.56         22.39          142.00     1479.0          0.11100   \n",
       "565        20.13         28.25          131.20     1261.0          0.09780   \n",
       "566        16.60         28.08          108.30      858.1          0.08455   \n",
       "567        20.60         29.33          140.10     1265.0          0.11780   \n",
       "568         7.76         24.54           47.92      181.0          0.05263   \n",
       "\n",
       "     compactness_mean  concavity_mean  concave points_mean  symmetry_mean  \\\n",
       "0             0.27760         0.30010              0.14710         0.2419   \n",
       "1             0.07864         0.08690              0.07017         0.1812   \n",
       "2             0.15990         0.19740              0.12790         0.2069   \n",
       "3             0.28390         0.24140              0.10520         0.2597   \n",
       "4             0.13280         0.19800              0.10430         0.1809   \n",
       "..                ...             ...                  ...            ...   \n",
       "564           0.11590         0.24390              0.13890         0.1726   \n",
       "565           0.10340         0.14400              0.09791         0.1752   \n",
       "566           0.10230         0.09251              0.05302         0.1590   \n",
       "567           0.27700         0.35140              0.15200         0.2397   \n",
       "568           0.04362         0.00000              0.00000         0.1587   \n",
       "\n",
       "     fractal_dimension_mean  ...  radius_worst  texture_worst  \\\n",
       "0                   0.07871  ...        25.380          17.33   \n",
       "1                   0.05667  ...        24.990          23.41   \n",
       "2                   0.05999  ...        23.570          25.53   \n",
       "3                   0.09744  ...        14.910          26.50   \n",
       "4                   0.05883  ...        22.540          16.67   \n",
       "..                      ...  ...           ...            ...   \n",
       "564                 0.05623  ...        25.450          26.40   \n",
       "565                 0.05533  ...        23.690          38.25   \n",
       "566                 0.05648  ...        18.980          34.12   \n",
       "567                 0.07016  ...        25.740          39.42   \n",
       "568                 0.05884  ...         9.456          30.37   \n",
       "\n",
       "     perimeter_worst  area_worst  smoothness_worst  compactness_worst  \\\n",
       "0             184.60      2019.0           0.16220            0.66560   \n",
       "1             158.80      1956.0           0.12380            0.18660   \n",
       "2             152.50      1709.0           0.14440            0.42450   \n",
       "3              98.87       567.7           0.20980            0.86630   \n",
       "4             152.20      1575.0           0.13740            0.20500   \n",
       "..               ...         ...               ...                ...   \n",
       "564           166.10      2027.0           0.14100            0.21130   \n",
       "565           155.00      1731.0           0.11660            0.19220   \n",
       "566           126.70      1124.0           0.11390            0.30940   \n",
       "567           184.60      1821.0           0.16500            0.86810   \n",
       "568            59.16       268.6           0.08996            0.06444   \n",
       "\n",
       "     concavity_worst  concave points_worst  symmetry_worst  \\\n",
       "0             0.7119                0.2654          0.4601   \n",
       "1             0.2416                0.1860          0.2750   \n",
       "2             0.4504                0.2430          0.3613   \n",
       "3             0.6869                0.2575          0.6638   \n",
       "4             0.4000                0.1625          0.2364   \n",
       "..               ...                   ...             ...   \n",
       "564           0.4107                0.2216          0.2060   \n",
       "565           0.3215                0.1628          0.2572   \n",
       "566           0.3403                0.1418          0.2218   \n",
       "567           0.9387                0.2650          0.4087   \n",
       "568           0.0000                0.0000          0.2871   \n",
       "\n",
       "     fractal_dimension_worst  \n",
       "0                    0.11890  \n",
       "1                    0.08902  \n",
       "2                    0.08758  \n",
       "3                    0.17300  \n",
       "4                    0.07678  \n",
       "..                       ...  \n",
       "564                  0.07115  \n",
       "565                  0.06637  \n",
       "566                  0.07820  \n",
       "567                  0.12400  \n",
       "568                  0.07039  \n",
       "\n",
       "[569 rows x 30 columns]"
      ]
     },
     "execution_count": 9,
     "metadata": {},
     "output_type": "execute_result"
    }
   ],
   "source": [
    "X"
   ]
  },
  {
   "cell_type": "code",
   "execution_count": 10,
   "metadata": {},
   "outputs": [],
   "source": [
    "from sklearn.model_selection import train_test_split"
   ]
  },
  {
   "cell_type": "code",
   "execution_count": 11,
   "metadata": {},
   "outputs": [],
   "source": [
    "X_train, X_test, y_train, y_test = train_test_split(X, y, test_size=0.2, random_state=99)"
   ]
  },
  {
   "cell_type": "code",
   "execution_count": 12,
   "metadata": {},
   "outputs": [],
   "source": [
    "def pandas2torch(df):\n",
    "    np_array = np.array(df)\n",
    "    return torch.tensor(np_array, dtype=torch.float)"
   ]
  },
  {
   "cell_type": "code",
   "execution_count": 13,
   "metadata": {},
   "outputs": [
    {
     "data": {
      "text/plain": [
       "array([[1.404e+01, 1.598e+01, 8.978e+01, ..., 7.453e-02, 2.725e-01,\n",
       "        7.234e-02],\n",
       "       [1.223e+01, 1.956e+01, 7.854e+01, ..., 1.080e-01, 2.668e-01,\n",
       "        8.174e-02],\n",
       "       [1.371e+01, 2.083e+01, 9.020e+01, ..., 1.556e-01, 3.196e-01,\n",
       "        1.151e-01],\n",
       "       ...,\n",
       "       [1.747e+01, 2.468e+01, 1.161e+02, ..., 1.721e-01, 2.160e-01,\n",
       "        9.300e-02],\n",
       "       [1.008e+01, 1.511e+01, 6.376e+01, ..., 1.042e-02, 2.933e-01,\n",
       "        7.697e-02],\n",
       "       [1.674e+01, 2.159e+01, 1.101e+02, ..., 1.813e-01, 4.863e-01,\n",
       "        8.633e-02]])"
      ]
     },
     "execution_count": 13,
     "metadata": {},
     "output_type": "execute_result"
    }
   ],
   "source": [
    "np.array(X_train)"
   ]
  },
  {
   "cell_type": "code",
   "execution_count": 14,
   "metadata": {},
   "outputs": [],
   "source": [
    "X_train_torch = pandas2torch(X_train)\n",
    "X_test_torch = pandas2torch(X_test)\n",
    "y_train_torch = pandas2torch(y_train)\n",
    "y_test_torch = pandas2torch(y_test)"
   ]
  },
  {
   "cell_type": "code",
   "execution_count": 15,
   "metadata": {},
   "outputs": [
    {
     "data": {
      "text/plain": [
       "torch.Tensor"
      ]
     },
     "execution_count": 15,
     "metadata": {},
     "output_type": "execute_result"
    }
   ],
   "source": [
    "type(X_train_torch)"
   ]
  },
  {
   "cell_type": "code",
   "execution_count": 16,
   "metadata": {},
   "outputs": [],
   "source": [
    "from torch.utils.data import Dataset, DataLoader, TensorDataset"
   ]
  },
  {
   "cell_type": "code",
   "execution_count": 17,
   "metadata": {},
   "outputs": [],
   "source": [
    "dataset = TensorDataset(X_train_torch, y_train_torch)"
   ]
  },
  {
   "cell_type": "code",
   "execution_count": 18,
   "metadata": {},
   "outputs": [
    {
     "data": {
      "text/plain": [
       "<torch.utils.data.dataset.TensorDataset at 0x7f411d221a80>"
      ]
     },
     "execution_count": 18,
     "metadata": {},
     "output_type": "execute_result"
    }
   ],
   "source": [
    "dataset"
   ]
  },
  {
   "cell_type": "code",
   "execution_count": 19,
   "metadata": {},
   "outputs": [],
   "source": [
    "train_loader = DataLoader(dataset=dataset, batch_size=32, shuffle=True)"
   ]
  },
  {
   "cell_type": "code",
   "execution_count": 20,
   "metadata": {},
   "outputs": [
    {
     "data": {
      "text/plain": [
       "<torch.utils.data.dataloader.DataLoader at 0x7f411d221780>"
      ]
     },
     "execution_count": 20,
     "metadata": {},
     "output_type": "execute_result"
    }
   ],
   "source": [
    "train_loader"
   ]
  },
  {
   "attachments": {},
   "cell_type": "markdown",
   "metadata": {},
   "source": [
    "## Arquitetura da rede neural"
   ]
  },
  {
   "cell_type": "code",
   "execution_count": 64,
   "metadata": {},
   "outputs": [],
   "source": [
    "classificador1 = nn.Sequential(\n",
    "    nn.Linear(in_features=30, out_features=16),\n",
    "    nn.ReLU(),\n",
    "    nn.Linear(in_features=16, out_features=16),\n",
    "    nn.ReLU(),\n",
    "    nn.Linear(16, 1),\n",
    "    nn.Sigmoid()\n",
    ")"
   ]
  },
  {
   "cell_type": "code",
   "execution_count": 65,
   "metadata": {},
   "outputs": [
    {
     "data": {
      "text/plain": [
       "Sequential(\n",
       "  (0): Linear(in_features=30, out_features=16, bias=True)\n",
       "  (1): ReLU()\n",
       "  (2): Linear(in_features=16, out_features=16, bias=True)\n",
       "  (3): ReLU()\n",
       "  (4): Linear(in_features=16, out_features=1, bias=True)\n",
       "  (5): Sigmoid()\n",
       ")"
      ]
     },
     "execution_count": 65,
     "metadata": {},
     "output_type": "execute_result"
    }
   ],
   "source": [
    "classificador1"
   ]
  },
  {
   "cell_type": "code",
   "execution_count": 66,
   "metadata": {},
   "outputs": [],
   "source": [
    "from torchinfo import summary"
   ]
  },
  {
   "cell_type": "code",
   "execution_count": 67,
   "metadata": {},
   "outputs": [
    {
     "data": {
      "text/plain": [
       "=================================================================\n",
       "Layer (type:depth-idx)                   Param #\n",
       "=================================================================\n",
       "Sequential                               --\n",
       "├─Linear: 1-1                            496\n",
       "├─ReLU: 1-2                              --\n",
       "├─Linear: 1-3                            272\n",
       "├─ReLU: 1-4                              --\n",
       "├─Linear: 1-5                            17\n",
       "├─Sigmoid: 1-6                           --\n",
       "=================================================================\n",
       "Total params: 785\n",
       "Trainable params: 785\n",
       "Non-trainable params: 0\n",
       "================================================================="
      ]
     },
     "execution_count": 67,
     "metadata": {},
     "output_type": "execute_result"
    }
   ],
   "source": [
    "summary(classificador1)"
   ]
  },
  {
   "cell_type": "code",
   "execution_count": 68,
   "metadata": {},
   "outputs": [],
   "source": [
    "# função de erro (Bynary cross entropy)\n",
    "error_fn = nn.BCELoss()"
   ]
  },
  {
   "cell_type": "code",
   "execution_count": 69,
   "metadata": {},
   "outputs": [],
   "source": [
    "optimizer = torch.optim.Adam(classificador1.parameters(), lr=0.001, weight_decay=0.0001)"
   ]
  },
  {
   "attachments": {},
   "cell_type": "markdown",
   "metadata": {},
   "source": [
    "## Treinamento da rede neural\n",
    "\n",
    "#### Sem POO"
   ]
  },
  {
   "cell_type": "code",
   "execution_count": 70,
   "metadata": {},
   "outputs": [],
   "source": [
    "epocas = 100"
   ]
  },
  {
   "cell_type": "code",
   "execution_count": 71,
   "metadata": {},
   "outputs": [
    {
     "data": {
      "text/plain": [
       "32"
      ]
     },
     "execution_count": 71,
     "metadata": {},
     "output_type": "execute_result"
    }
   ],
   "source": [
    "train_loader.batch_size"
   ]
  },
  {
   "cell_type": "code",
   "execution_count": 72,
   "metadata": {},
   "outputs": [
    {
     "name": "stdout",
     "output_type": "stream",
     "text": [
      "Época 1: loss 0.7504502495129903\n",
      "Época 2: loss 0.4212428500254949\n",
      "Época 3: loss 0.3826503892739614\n",
      "Época 4: loss 0.3668994704882304\n",
      "Época 5: loss 0.3282494793335597\n",
      "Época 6: loss 0.2970696707566579\n",
      "Época 7: loss 0.28724365234375\n",
      "Época 8: loss 0.27739868859450023\n",
      "Época 9: loss 0.2621150160829226\n",
      "Época 10: loss 0.2862500528494517\n",
      "Época 11: loss 0.25355974783500035\n",
      "Época 12: loss 0.24083938995997112\n",
      "Época 13: loss 0.23678288459777833\n",
      "Época 14: loss 0.2470708558956782\n",
      "Época 15: loss 0.24253431856632232\n",
      "Época 16: loss 0.24386279334624608\n",
      "Época 17: loss 0.25215415805578234\n",
      "Época 18: loss 0.2267906015117963\n",
      "Época 19: loss 0.2900180548429489\n",
      "Época 20: loss 0.23332903484503428\n",
      "Época 21: loss 0.2505473126967748\n",
      "Época 22: loss 0.2504628265897433\n",
      "Época 23: loss 0.2506648520628611\n",
      "Época 24: loss 0.2394290491938591\n",
      "Época 25: loss 0.23960798730452856\n",
      "Época 26: loss 0.22293815712134044\n",
      "Época 27: loss 0.2431792547305425\n",
      "Época 28: loss 0.22091798335313798\n",
      "Época 29: loss 0.21987516656517983\n",
      "Época 30: loss 0.27591957747936247\n",
      "Época 31: loss 0.2830803523461024\n",
      "Época 32: loss 0.23796793073415756\n",
      "Época 33: loss 0.21142524282137554\n",
      "Época 34: loss 0.21725466797749202\n",
      "Época 35: loss 0.22477686355511348\n",
      "Época 36: loss 0.22118740727504094\n",
      "Época 37: loss 0.20542754816512268\n",
      "Época 38: loss 0.2228027696410815\n",
      "Época 39: loss 0.23679753517111143\n",
      "Época 40: loss 0.2016184659053882\n",
      "Época 41: loss 0.21588610087831814\n",
      "Época 42: loss 0.21571033199628195\n",
      "Época 43: loss 0.23898370216290157\n",
      "Época 44: loss 0.24748743573824564\n",
      "Época 45: loss 0.22133040949702262\n",
      "Época 46: loss 0.22010612885157269\n",
      "Época 47: loss 0.22138213813304902\n",
      "Época 48: loss 0.23323045819997787\n",
      "Época 49: loss 0.2195746456583341\n",
      "Época 50: loss 0.1979470188419024\n",
      "Época 51: loss 0.19458553269505502\n",
      "Época 52: loss 0.20848304082949956\n",
      "Época 53: loss 0.1938869980474313\n",
      "Época 54: loss 0.1968743751446406\n",
      "Época 55: loss 0.2178256650765737\n",
      "Época 56: loss 0.20351710816224416\n",
      "Época 57: loss 0.22168350021044414\n",
      "Época 58: loss 0.2344065378109614\n",
      "Época 59: loss 0.26772596687078476\n",
      "Época 60: loss 0.20175304859876633\n",
      "Época 61: loss 0.18983946045239766\n",
      "Época 62: loss 0.20398353536923727\n",
      "Época 63: loss 0.18615877827008565\n",
      "Época 64: loss 0.1897903999934594\n",
      "Época 65: loss 0.19244397481282552\n",
      "Época 66: loss 0.19034487133224806\n",
      "Época 67: loss 0.203732601304849\n",
      "Época 68: loss 0.1944286374996106\n",
      "Época 69: loss 0.19382296179731687\n",
      "Época 70: loss 0.1924975370367368\n",
      "Época 71: loss 0.1874563992023468\n",
      "Época 72: loss 0.1802655560274919\n",
      "Época 73: loss 0.19446247642238934\n",
      "Época 74: loss 0.20611191913485527\n",
      "Época 75: loss 0.1817778617143631\n",
      "Época 76: loss 0.22758822093407313\n",
      "Época 77: loss 0.21157664308945337\n",
      "Época 78: loss 0.1857702150940895\n",
      "Época 79: loss 0.20609181622664133\n",
      "Época 80: loss 0.18039862265189488\n",
      "Época 81: loss 0.2015222777922948\n",
      "Época 82: loss 0.21111690948406855\n",
      "Época 83: loss 0.20162966921925546\n",
      "Época 84: loss 0.18112999871373175\n",
      "Época 85: loss 0.18895988489190738\n",
      "Época 86: loss 0.18090101704001427\n",
      "Época 87: loss 0.18821269969145457\n",
      "Época 88: loss 0.1986868992447853\n",
      "Época 89: loss 0.21552351315816243\n",
      "Época 90: loss 0.22130574037631354\n",
      "Época 91: loss 0.1941424936056137\n",
      "Época 92: loss 0.19970549593369166\n",
      "Época 93: loss 0.16666994628806908\n",
      "Época 94: loss 0.1906852036714554\n",
      "Época 95: loss 0.18446341256300608\n",
      "Época 96: loss 0.19625381678342818\n",
      "Época 97: loss 0.20465056399504344\n",
      "Época 98: loss 0.17767308056354522\n",
      "Época 99: loss 0.18302429467439651\n",
      "Época 100: loss 0.22712406367063523\n"
     ]
    }
   ],
   "source": [
    "for epoch in range(epocas):\n",
    "    running_loss = 0.\n",
    "\n",
    "    for batch in train_loader:\n",
    "        inputs, labels = batch\n",
    "        optimizer.zero_grad()\n",
    "\n",
    "        outputs = classificador1(inputs) #classificador1.foward(inputs)\n",
    "        outputs = outputs.squeeze()\n",
    "        loss = error_fn(outputs, labels)\n",
    "        \n",
    "        #backpropagation\n",
    "        loss.backward()\n",
    "\n",
    "        # Atualizar os pesos\n",
    "        optimizer.step()\n",
    "\n",
    "        # erro acumulado\n",
    "        running_loss += loss.item()\n",
    "\n",
    "    print(f'Época {epoch+1}: loss {running_loss/len(train_loader)}')"
   ]
  },
  {
   "cell_type": "code",
   "execution_count": 73,
   "metadata": {},
   "outputs": [],
   "source": [
    "# Armazenando pesos\n",
    "params = list(classificador1.parameters())"
   ]
  },
  {
   "cell_type": "code",
   "execution_count": 74,
   "metadata": {},
   "outputs": [
    {
     "data": {
      "text/plain": [
       "[Parameter containing:\n",
       " tensor([[ 5.8210e-02,  1.5940e-01, -2.2470e-01,  6.7227e-02, -1.3471e-01,\n",
       "           4.8025e-01,  6.3897e-01,  6.9568e-01, -1.3029e-01,  1.5350e-02,\n",
       "           1.1264e-02,  1.2448e-01,  2.6802e-01, -7.5626e-02,  9.0033e-02,\n",
       "           4.4053e-01,  5.7423e-01,  2.2049e-01, -3.7639e-02,  9.0409e-02,\n",
       "          -2.8248e-02, -1.0662e-02,  7.3819e-02, -1.8940e-02,  1.0925e-02,\n",
       "           5.6175e-01,  6.4616e-01,  5.5449e-01, -2.0860e-02,  8.9261e-02],\n",
       "         [-1.1393e-02, -1.0725e-02, -1.4767e-02, -1.3558e-02,  5.5076e-29,\n",
       "           9.0550e-28, -1.0136e-30, -7.2806e-23, -4.4835e-24,  2.1362e-29,\n",
       "          -7.4439e-11, -6.6103e-05, -6.8057e-04,  2.2944e-03, -7.7589e-26,\n",
       "           1.9716e-30, -2.1780e-29, -3.5707e-30,  2.3161e-30,  1.5452e-30,\n",
       "          -1.6128e-02, -1.0009e-02, -1.5657e-02, -1.6093e-02, -4.1885e-25,\n",
       "          -4.7154e-20,  2.1420e-18, -8.4909e-29, -6.8577e-15, -3.9747e-29],\n",
       "         [-7.3259e-03, -5.0641e-03, -6.9831e-03, -4.0847e-03,  1.0926e-09,\n",
       "          -2.0821e-09,  3.3299e-09, -1.0068e-09, -3.1841e-07,  3.4972e-10,\n",
       "          -4.3172e-05, -2.9880e-03, -2.3956e-03, -6.3940e-03,  5.9964e-12,\n",
       "           5.8634e-10,  5.9297e-10, -7.6846e-11,  1.5559e-10, -1.5532e-11,\n",
       "          -8.2371e-03, -7.6527e-03, -6.8257e-03, -6.3031e-03, -1.1073e-09,\n",
       "           1.1915e-05,  4.4877e-05,  1.8084e-09, -1.6747e-06, -3.7980e-10],\n",
       "         [ 1.0475e-02,  8.4596e-02,  1.2896e-01,  1.1531e-01,  8.8818e-02,\n",
       "          -4.2848e-01, -7.0077e-01, -7.0435e-01, -8.1815e-02,  2.0446e-01,\n",
       "           1.0757e-02, -6.3185e-03, -2.0653e-01, -6.9481e-02, -7.9206e-02,\n",
       "          -4.2223e-01, -5.5319e-01, -2.8505e-01, -9.8155e-02, -8.0479e-02,\n",
       "           2.7589e-01, -3.5986e-02,  1.7356e-01, -4.6600e-02,  6.4313e-02,\n",
       "          -7.3288e-01, -7.6386e-01, -4.4958e-01, -6.1414e-02,  4.4110e-02],\n",
       "         [ 2.5486e-02, -1.4171e-02,  7.6889e-02, -6.0879e-02,  2.0640e-02,\n",
       "           2.0277e-01,  4.4504e-01,  2.5515e-01,  2.7492e-02, -6.5365e-02,\n",
       "           8.0321e-02,  5.7613e-02, -4.1045e-02,  2.8360e-02,  1.4152e-02,\n",
       "           1.4329e-01,  1.6539e-01,  5.0945e-02,  1.4622e-02,  1.7031e-02,\n",
       "          -2.0516e-01, -3.8882e-02, -2.1670e-01,  1.6419e-01, -3.9434e-03,\n",
       "           5.4302e-01,  7.0968e-01,  2.5381e-01,  3.1109e-02,  1.1037e-01],\n",
       "         [-8.3022e-02, -7.6566e-02, -1.8359e-01,  1.1079e-01, -8.4215e-02,\n",
       "           4.8727e-01,  7.7178e-01,  5.4178e-01, -1.5520e-01, -1.0955e-02,\n",
       "          -6.0110e-02,  1.6197e-01,  7.5788e-02,  4.0016e-02,  4.4229e-02,\n",
       "           2.7677e-01,  4.2570e-01,  1.9152e-01, -1.0124e-02,  3.6456e-02,\n",
       "          -4.9030e-02,  4.8507e-02, -2.0320e-01,  9.1815e-02,  7.7077e-02,\n",
       "           5.7460e-01,  6.4799e-01,  6.0278e-01,  1.3380e-01,  1.4774e-01],\n",
       "         [ 1.1439e-01, -9.3112e-02, -4.9374e-03,  1.6342e-01, -1.7399e-02,\n",
       "          -5.9113e-01, -8.8253e-01, -6.7296e-01,  5.4860e-02,  2.1053e-01,\n",
       "           7.6461e-02,  3.8338e-02, -1.2012e-01, -2.1797e-01, -4.3988e-02,\n",
       "          -3.3184e-01, -5.0332e-01, -2.0827e-01, -3.1616e-02, -4.2405e-02,\n",
       "           2.9558e-01, -1.3021e-01,  1.4761e-01, -1.1343e-01,  8.6557e-03,\n",
       "          -7.4461e-01, -7.7000e-01, -6.7251e-01, -1.2378e-01, -1.4602e-01],\n",
       "         [-1.9167e-02, -8.1833e-03, -1.7697e-02, -1.9347e-02, -1.3232e-09,\n",
       "          -4.6299e-10,  1.1839e-10, -3.8214e-16, -8.7823e-06,  2.1340e-15,\n",
       "          -7.5260e-04, -3.4122e-03, -1.0504e-02, -1.9232e-02, -1.2198e-16,\n",
       "          -3.9683e-17,  1.5838e-17, -1.2670e-16,  4.0702e-16, -1.2476e-16,\n",
       "          -1.7139e-02, -6.3154e-03, -1.5981e-02, -1.8494e-02, -3.6335e-08,\n",
       "           6.8297e-05,  1.7451e-04,  2.6442e-08, -9.3914e-05, -6.5414e-10],\n",
       "         [-1.4916e-02, -1.7818e-02, -1.6740e-02, -1.7016e-02,  1.2042e-11,\n",
       "          -1.1925e-09, -8.3932e-09, -3.7926e-12, -5.2315e-07, -5.0817e-12,\n",
       "          -1.4556e-04, -5.0241e-03, -9.5019e-03, -1.6566e-02,  1.0108e-12,\n",
       "           3.6775e-12, -5.1626e-12,  1.9940e-12,  2.6412e-12, -5.1344e-13,\n",
       "          -1.4920e-02, -1.7832e-02, -1.6611e-02, -1.5929e-02, -3.9399e-08,\n",
       "          -6.9070e-04, -8.0143e-04, -9.6090e-07, -8.1318e-05,  1.5070e-12],\n",
       "         [-8.9160e-02,  8.1630e-02, -1.6695e-01, -1.5444e-02,  3.7091e-02,\n",
       "           5.7758e-01,  8.8544e-01,  7.2710e-01, -9.2401e-02,  1.3006e-02,\n",
       "           2.4894e-02,  5.6926e-03,  1.2426e-01,  4.8467e-03,  6.3035e-02,\n",
       "           3.7429e-01,  5.4721e-01,  1.9645e-01,  3.2539e-02,  5.6381e-02,\n",
       "          -6.5398e-02, -3.1370e-02, -1.6220e-01,  8.3800e-02,  4.3016e-02,\n",
       "           7.5160e-01,  7.4597e-01,  5.3724e-01,  1.1474e-01,  1.5982e-01],\n",
       "         [ 2.0298e-02, -4.7626e-02,  4.7183e-02, -1.2311e-02,  1.1366e-22,\n",
       "           6.1410e-24, -1.3749e-22,  2.3520e-36,  3.8232e-26, -9.7858e-36,\n",
       "           6.5013e-26, -2.2298e-12, -1.8437e-05, -2.3144e-03, -1.4613e-32,\n",
       "           5.8387e-34, -2.1187e-32,  5.7267e-28,  3.7202e-25, -2.2574e-37,\n",
       "           2.4473e-02, -5.8489e-02,  6.8561e-02, -2.7250e-02, -3.7497e-35,\n",
       "           1.1877e-34,  4.1938e-24, -7.3554e-24, -1.9017e-27,  9.9464e-35],\n",
       "         [-6.9364e-03, -7.0565e-03, -1.5281e-02, -1.5281e-02,  1.0157e-23,\n",
       "          -2.6713e-23,  5.6668e-23,  4.5522e-23,  1.0657e-22,  1.1236e-22,\n",
       "          -1.5444e-17, -1.2130e-08, -5.2461e-06, -8.7099e-03,  5.4208e-27,\n",
       "           1.2005e-23, -6.1431e-23,  2.4521e-23, -2.7439e-22, -3.3207e-23,\n",
       "          -7.4694e-03, -8.0468e-03, -1.4517e-02, -1.5027e-02, -4.2715e-23,\n",
       "           5.5477e-23,  9.5968e-20, -3.3695e-23, -2.2295e-22, -3.4546e-24],\n",
       "         [-1.2016e-01,  4.3334e-02,  7.2025e-02,  3.9223e-02, -6.5574e-03,\n",
       "          -3.6370e-02,  1.8208e-02,  1.5610e-03, -9.0211e-02, -2.4101e-02,\n",
       "          -5.3771e-03, -1.3430e-01,  2.6785e-02, -3.2181e-02, -2.2374e-10,\n",
       "          -7.7840e-04, -3.1045e-03,  6.1742e-07,  2.6782e-04, -6.3394e-19,\n",
       "          -8.2798e-02, -1.7047e-02, -4.6728e-02, -4.8372e-02,  1.0405e-02,\n",
       "          -6.0105e-02,  1.5284e-02, -4.0568e-02, -9.6588e-02, -2.7140e-02],\n",
       "         [-1.6941e-02, -2.1380e-02, -1.9030e-02, -1.8600e-02, -3.4632e-08,\n",
       "          -1.1880e-05, -1.5552e-05,  7.4233e-12, -5.6193e-05, -1.6643e-09,\n",
       "          -6.2093e-04, -6.6421e-03, -1.5277e-02, -1.5746e-02,  2.9554e-14,\n",
       "           4.1002e-14,  3.1665e-13, -9.5043e-14,  2.0612e-13,  1.4442e-14,\n",
       "          -1.6653e-02, -2.1346e-02, -1.9904e-02, -1.8046e-02, -7.0386e-06,\n",
       "          -2.9886e-03, -5.0410e-03, -3.5741e-05, -9.1477e-04, -3.0617e-08],\n",
       "         [ 5.2377e-02, -7.6830e-02, -1.8807e-01, -1.0626e-02, -1.0414e-09,\n",
       "           1.3523e-06,  2.2691e-04,  5.3609e-06, -1.0803e-05,  2.2310e-14,\n",
       "           6.5617e-02,  4.6680e-02,  1.4075e-01,  1.5315e-01,  1.0977e-32,\n",
       "           1.4098e-15, -1.9892e-17,  1.7497e-29, -2.9501e-27, -4.8302e-37,\n",
       "           1.0070e-01, -6.7776e-02, -6.6310e-02, -1.4355e-02, -7.7733e-08,\n",
       "          -5.2308e-04, -1.2149e-03, -2.0320e-05, -4.4412e-05, -6.6462e-12],\n",
       "         [ 1.4911e-01, -1.1256e-01,  1.3122e-01, -6.6127e-03, -3.4684e-02,\n",
       "          -5.9620e-01, -1.0730e+00, -8.4819e-01,  3.5795e-02,  7.4976e-02,\n",
       "           1.2479e-01, -1.3654e-02, -1.1840e-01, -7.4778e-02, -7.1965e-02,\n",
       "          -4.7142e-01, -6.0647e-01, -2.7831e-01, -2.6326e-02, -7.3554e-02,\n",
       "           1.3908e-01, -1.0279e-01,  5.1139e-02, -3.8417e-03, -1.4066e-01,\n",
       "          -9.1530e-01, -1.1057e+00, -7.6968e-01, -8.0114e-02, -1.7554e-01]],\n",
       "        requires_grad=True),\n",
       " Parameter containing:\n",
       " tensor([-7.9191e-02, -4.9506e-05, -2.1584e-03,  2.2729e-01, -2.3737e-01,\n",
       "         -2.9109e-01,  2.6618e-01, -5.7993e-03, -3.1300e-03, -3.5187e-01,\n",
       "          8.8810e-09, -2.1381e-09,  3.9968e-02, -6.8045e-03,  2.1920e-03,\n",
       "          3.3228e-01], requires_grad=True),\n",
       " Parameter containing:\n",
       " tensor([[-1.8267e-02, -1.4744e-02,  2.8521e-02,  1.2310e-01, -7.2289e-02,\n",
       "          -6.3494e-02,  7.9942e-03,  2.5018e-02, -1.4623e-02,  1.4433e-02,\n",
       "          -7.3347e-36,  8.9731e-03, -1.2150e-26, -4.1738e-02,  1.0653e-24,\n",
       "           1.9387e-01],\n",
       "         [-2.1649e-27, -1.4401e-35,  6.2191e-36, -5.2389e-16, -7.5518e-13,\n",
       "          -1.1573e-36, -3.5561e-36, -1.2044e-22, -2.2737e-15, -4.8411e-37,\n",
       "          -2.1965e-14,  3.0007e-34,  2.1365e-36, -1.5622e-26, -1.0367e-11,\n",
       "           1.3868e-14],\n",
       "         [ 2.9810e-21,  5.6665e-31,  7.6677e-26,  1.5078e-30, -1.9417e-12,\n",
       "           2.9178e-36,  2.6266e-20, -2.0776e-20,  1.8323e-34,  1.2622e-35,\n",
       "           4.7369e-14, -2.8749e-34, -1.7689e-32,  3.8743e-29,  9.8056e-28,\n",
       "           1.9772e-36],\n",
       "         [-2.4679e-01,  1.9170e-02,  1.3558e-02,  1.5194e-01,  1.3931e-01,\n",
       "           1.9134e-01,  2.1023e-01,  1.8145e-02, -1.7183e-02, -2.3468e-01,\n",
       "           1.8238e-03,  8.3269e-03, -2.7217e-02, -1.9647e-02,  1.1900e-01,\n",
       "           2.5623e-02],\n",
       "         [-1.1844e-01,  6.6694e-15,  8.5443e-20, -1.0554e-01, -1.2880e-02,\n",
       "           6.5161e-02,  1.2917e-36, -3.0403e-21,  2.3401e-38, -4.0074e-02,\n",
       "          -7.2718e-17, -5.2544e-13,  9.3719e-37,  3.8107e-17,  1.4205e-01,\n",
       "          -9.6902e-17],\n",
       "         [ 6.6397e-02, -1.8382e-02, -1.3963e-02,  1.8428e-01, -6.4817e-02,\n",
       "           5.3177e-02, -1.5287e-01, -1.8182e-02,  1.6934e-02,  1.7961e-01,\n",
       "          -1.9460e-05, -7.8595e-03, -9.8339e-02,  2.0198e-02, -1.0314e-01,\n",
       "          -1.2519e-01],\n",
       "         [-1.6675e-01,  9.7543e-03, -2.9756e-05, -7.5449e-03, -2.4650e-01,\n",
       "           2.2547e-01,  2.1295e-01, -7.6465e-05,  7.6061e-12, -2.5042e-01,\n",
       "          -1.2310e-31,  4.8847e-04,  1.4355e-01, -1.2354e-02,  9.4592e-02,\n",
       "          -4.5848e-02],\n",
       "         [-4.6860e-02, -3.9003e-02, -1.2918e-02, -3.3040e-03,  1.2412e-01,\n",
       "           1.7714e-01, -2.7672e-01, -1.8074e-02,  1.6602e-02,  1.9060e-01,\n",
       "           3.5353e-06, -6.8436e-03, -2.0688e-01,  1.9862e-02,  1.2539e-01,\n",
       "          -1.2772e-01],\n",
       "         [ 2.0582e-01, -1.8896e-02, -1.3917e-02,  2.2705e-01, -2.5032e-02,\n",
       "           7.4848e-02,  1.0481e-01, -1.8239e-02,  1.7010e-02, -5.7511e-02,\n",
       "          -1.6510e-04, -8.2194e-03,  1.0172e-01,  1.9949e-02,  1.7260e-01,\n",
       "          -3.1464e-02],\n",
       "         [-2.2564e-01,  1.8687e-02,  1.4901e-02,  2.7841e-01, -9.9117e-02,\n",
       "          -2.1417e-04, -1.7980e-01,  1.8201e-02, -1.7221e-02, -8.0622e-02,\n",
       "          -3.6517e-05,  8.5754e-03,  2.3659e-01, -1.9601e-02, -2.3487e-02,\n",
       "           1.5781e-01],\n",
       "         [-8.7184e-02,  2.0138e-02,  1.0094e-02,  1.7578e-01, -6.9828e-02,\n",
       "          -4.3057e-02,  6.4736e-02,  1.9392e-02, -2.2507e-02, -4.0188e-02,\n",
       "          -2.7319e-36,  9.4014e-03, -1.7234e-32, -2.2625e-02, -3.3043e-15,\n",
       "           1.0860e-01],\n",
       "         [-2.0083e-01,  3.0213e-02,  1.4644e-02,  2.0543e-01,  7.5613e-02,\n",
       "           1.3153e-01,  2.5797e-01,  1.8149e-02, -1.7100e-02,  6.6325e-02,\n",
       "           2.1308e-03,  8.2146e-03, -2.2360e-01, -1.9888e-02,  1.0951e-01,\n",
       "           1.3820e-01],\n",
       "         [-1.0654e-01, -6.5434e-03, -1.3429e-02, -1.5286e-01,  3.2686e-02,\n",
       "           2.1539e-01, -6.6112e-03, -1.7976e-02,  1.7235e-02, -1.1319e-01,\n",
       "           5.1121e-04, -6.9073e-03,  7.1878e-02,  1.9904e-02, -2.0445e-01,\n",
       "          -1.7210e-01],\n",
       "         [ 1.8485e-01, -1.9262e-02, -1.3493e-02, -1.8054e-01,  4.0212e-02,\n",
       "           1.7593e-01, -5.2498e-02, -1.7786e-02,  1.7272e-02,  1.8749e-01,\n",
       "          -9.1509e-03, -8.2415e-03,  6.6253e-02,  1.9974e-02, -9.0724e-02,\n",
       "          -1.7267e-01],\n",
       "         [ 2.3676e-01, -2.2289e-02, -1.2945e-02, -9.1246e-02,  1.2649e-01,\n",
       "          -4.8295e-02,  1.9433e-02, -1.7220e-02,  1.7318e-02,  1.6414e-01,\n",
       "          -7.3025e-32, -6.6209e-03, -1.8129e-34,  2.0009e-02, -1.8279e-03,\n",
       "           6.0857e-02],\n",
       "         [ 1.9336e-01, -1.5951e-02, -2.3987e-02, -9.4014e-02,  2.2886e-01,\n",
       "          -1.6994e-01,  7.6509e-02,  3.1170e-02, -1.0470e-12,  5.8811e-02,\n",
       "           1.0634e-02,  1.9214e-03, -2.6058e-36,  1.0909e-02,  1.3830e-01,\n",
       "           3.5237e-02]], requires_grad=True),\n",
       " Parameter containing:\n",
       " tensor([ 3.0356e-01,  6.3225e-28,  1.6486e-31,  1.3222e-01, -7.7735e-03,\n",
       "         -3.4264e-01, -1.4145e-04, -3.0157e-01, -1.2065e-01,  1.7991e-01,\n",
       "          3.0715e-01,  2.6063e-01, -5.7437e-02, -2.6497e-01, -3.7495e-01,\n",
       "          1.4428e-01], requires_grad=True),\n",
       " Parameter containing:\n",
       " tensor([[-1.4520e-01,  1.5868e-30, -2.6035e-35, -1.5151e-01, -8.8695e-02,\n",
       "           8.2412e-02,  1.0234e-02,  4.3622e-02,  1.0876e-01, -1.2047e-01,\n",
       "          -1.1326e-01, -1.2421e-01,  2.0356e-01,  2.8544e-01,  4.6562e-02,\n",
       "           1.5957e-01]], requires_grad=True),\n",
       " Parameter containing:\n",
       " tensor([-0.0871], requires_grad=True)]"
      ]
     },
     "execution_count": 74,
     "metadata": {},
     "output_type": "execute_result"
    }
   ],
   "source": [
    "params"
   ]
  },
  {
   "attachments": {},
   "cell_type": "markdown",
   "metadata": {},
   "source": [
    "## Avaliando o modelo"
   ]
  },
  {
   "cell_type": "code",
   "execution_count": 32,
   "metadata": {},
   "outputs": [
    {
     "data": {
      "text/plain": [
       "Sequential(\n",
       "  (0): Linear(in_features=30, out_features=16, bias=True)\n",
       "  (1): ReLU()\n",
       "  (2): Linear(in_features=16, out_features=16, bias=True)\n",
       "  (3): ReLU()\n",
       "  (4): Linear(in_features=16, out_features=1, bias=True)\n",
       "  (5): Sigmoid()\n",
       ")"
      ]
     },
     "execution_count": 32,
     "metadata": {},
     "output_type": "execute_result"
    }
   ],
   "source": [
    "classificador1.eval()"
   ]
  },
  {
   "cell_type": "code",
   "execution_count": 33,
   "metadata": {},
   "outputs": [],
   "source": [
    "y_pred = classificador1(X_test_torch)"
   ]
  },
  {
   "cell_type": "code",
   "execution_count": 34,
   "metadata": {},
   "outputs": [
    {
     "data": {
      "text/plain": [
       "torch.Size([114, 1])"
      ]
     },
     "execution_count": 34,
     "metadata": {},
     "output_type": "execute_result"
    }
   ],
   "source": [
    "y_pred.size()"
   ]
  },
  {
   "cell_type": "code",
   "execution_count": 35,
   "metadata": {},
   "outputs": [],
   "source": [
    "y_pred = y_pred.detach().numpy()"
   ]
  },
  {
   "cell_type": "code",
   "execution_count": 36,
   "metadata": {},
   "outputs": [],
   "source": [
    "y_pred = np.array(y_pred > 0.5)"
   ]
  },
  {
   "cell_type": "code",
   "execution_count": 37,
   "metadata": {},
   "outputs": [
    {
     "data": {
      "text/plain": [
       "array([[False],\n",
       "       [False],\n",
       "       [False],\n",
       "       [False],\n",
       "       [False],\n",
       "       [ True],\n",
       "       [ True],\n",
       "       [ True],\n",
       "       [False],\n",
       "       [False],\n",
       "       [ True],\n",
       "       [False],\n",
       "       [ True],\n",
       "       [False],\n",
       "       [False],\n",
       "       [ True],\n",
       "       [ True],\n",
       "       [False],\n",
       "       [False],\n",
       "       [False],\n",
       "       [ True],\n",
       "       [False],\n",
       "       [False],\n",
       "       [False],\n",
       "       [ True],\n",
       "       [False],\n",
       "       [False],\n",
       "       [False],\n",
       "       [False],\n",
       "       [False],\n",
       "       [ True],\n",
       "       [False],\n",
       "       [False],\n",
       "       [False],\n",
       "       [False],\n",
       "       [False],\n",
       "       [False],\n",
       "       [False],\n",
       "       [False],\n",
       "       [False],\n",
       "       [False],\n",
       "       [False],\n",
       "       [False],\n",
       "       [ True],\n",
       "       [False],\n",
       "       [False],\n",
       "       [False],\n",
       "       [False],\n",
       "       [ True],\n",
       "       [False],\n",
       "       [False],\n",
       "       [ True],\n",
       "       [ True],\n",
       "       [False],\n",
       "       [ True],\n",
       "       [False],\n",
       "       [False],\n",
       "       [False],\n",
       "       [False],\n",
       "       [False],\n",
       "       [ True],\n",
       "       [ True],\n",
       "       [ True],\n",
       "       [False],\n",
       "       [ True],\n",
       "       [False],\n",
       "       [False],\n",
       "       [False],\n",
       "       [False],\n",
       "       [ True],\n",
       "       [False],\n",
       "       [ True],\n",
       "       [ True],\n",
       "       [False],\n",
       "       [ True],\n",
       "       [ True],\n",
       "       [ True],\n",
       "       [ True],\n",
       "       [ True],\n",
       "       [False],\n",
       "       [False],\n",
       "       [False],\n",
       "       [False],\n",
       "       [False],\n",
       "       [ True],\n",
       "       [False],\n",
       "       [False],\n",
       "       [False],\n",
       "       [False],\n",
       "       [False],\n",
       "       [ True],\n",
       "       [False],\n",
       "       [False],\n",
       "       [False],\n",
       "       [ True],\n",
       "       [ True],\n",
       "       [ True],\n",
       "       [False],\n",
       "       [False],\n",
       "       [False],\n",
       "       [False],\n",
       "       [False],\n",
       "       [False],\n",
       "       [False],\n",
       "       [False],\n",
       "       [False],\n",
       "       [False],\n",
       "       [False],\n",
       "       [False],\n",
       "       [False],\n",
       "       [False],\n",
       "       [ True],\n",
       "       [False],\n",
       "       [False]])"
      ]
     },
     "execution_count": 37,
     "metadata": {},
     "output_type": "execute_result"
    }
   ],
   "source": [
    "y_pred"
   ]
  },
  {
   "cell_type": "code",
   "execution_count": 39,
   "metadata": {},
   "outputs": [
    {
     "data": {
      "text/plain": [
       "0.956140350877193"
      ]
     },
     "execution_count": 39,
     "metadata": {},
     "output_type": "execute_result"
    }
   ],
   "source": [
    "from sklearn.metrics import accuracy_score\n",
    "accuracy_score(y_test, y_pred)"
   ]
  },
  {
   "attachments": {},
   "cell_type": "markdown",
   "metadata": {},
   "source": [
    "## Modelo com POO"
   ]
  },
  {
   "cell_type": "code",
   "execution_count": 55,
   "metadata": {},
   "outputs": [],
   "source": [
    "class NeuralNet(nn.Module):\n",
    "    def __init__(self):\n",
    "        super().__init__()\n",
    "\n",
    "        self.layers = nn.Sequential(\n",
    "            nn.Linear(in_features=30, out_features=16),\n",
    "            nn.ReLU(),\n",
    "            nn.Dropout(p=0.2),\n",
    "            nn.Linear(in_features=16, out_features=16),\n",
    "            nn.ReLU(),\n",
    "            nn.Dropout(p=0.2),\n",
    "            nn.Linear(16, 1),\n",
    "            nn.Sigmoid()\n",
    "        )\n",
    "\n",
    "    def forward(self, X):\n",
    "        return self.layers(X)"
   ]
  },
  {
   "cell_type": "code",
   "execution_count": 56,
   "metadata": {},
   "outputs": [],
   "source": [
    "classificador2 = NeuralNet()"
   ]
  },
  {
   "cell_type": "code",
   "execution_count": 57,
   "metadata": {},
   "outputs": [
    {
     "data": {
      "text/plain": [
       "=================================================================\n",
       "Layer (type:depth-idx)                   Param #\n",
       "=================================================================\n",
       "NeuralNet                                --\n",
       "├─Sequential: 1-1                        --\n",
       "│    └─Linear: 2-1                       496\n",
       "│    └─ReLU: 2-2                         --\n",
       "│    └─Dropout: 2-3                      --\n",
       "│    └─Linear: 2-4                       272\n",
       "│    └─ReLU: 2-5                         --\n",
       "│    └─Dropout: 2-6                      --\n",
       "│    └─Linear: 2-7                       17\n",
       "│    └─Sigmoid: 2-8                      --\n",
       "=================================================================\n",
       "Total params: 785\n",
       "Trainable params: 785\n",
       "Non-trainable params: 0\n",
       "================================================================="
      ]
     },
     "execution_count": 57,
     "metadata": {},
     "output_type": "execute_result"
    }
   ],
   "source": [
    "summary(classificador2)"
   ]
  },
  {
   "cell_type": "code",
   "execution_count": 58,
   "metadata": {},
   "outputs": [
    {
     "name": "stdout",
     "output_type": "stream",
     "text": [
      "Época 1: loss 23.570593388875327\n",
      "Época 2: loss 21.752505493164062\n",
      "Época 3: loss 23.240208435058594\n",
      "Época 4: loss 22.616341145833335\n",
      "Época 5: loss 23.387231190999348\n",
      "Época 6: loss 22.68624407450358\n",
      "Época 7: loss 21.61809533437093\n",
      "Época 8: loss 23.741385968526206\n",
      "Época 9: loss 23.14932200113932\n",
      "Época 10: loss 22.21875508626302\n",
      "Época 11: loss 21.327874183654785\n",
      "Época 12: loss 22.791946347554525\n",
      "Época 13: loss 23.25377960205078\n",
      "Época 14: loss 22.58102518717448\n",
      "Época 15: loss 21.705133777626905\n",
      "Época 16: loss 21.14740956624349\n",
      "Época 17: loss 23.231599617004395\n",
      "Época 18: loss 23.275274912516277\n",
      "Época 19: loss 22.5814723332723\n",
      "Época 20: loss 24.548191833496094\n",
      "Época 21: loss 23.966707928975424\n",
      "Época 22: loss 24.034313074747722\n",
      "Época 23: loss 22.85200792948405\n",
      "Época 24: loss 22.22448091506958\n",
      "Época 25: loss 22.329011917114258\n",
      "Época 26: loss 23.541843986511232\n",
      "Época 27: loss 22.31293487548828\n",
      "Época 28: loss 20.9810884475708\n",
      "Época 29: loss 22.68082440694173\n",
      "Época 30: loss 23.03684794108073\n",
      "Época 31: loss 22.142025629679363\n",
      "Época 32: loss 23.90712242126465\n",
      "Época 33: loss 22.904255803426107\n",
      "Época 34: loss 22.78882884979248\n",
      "Época 35: loss 22.980795987447102\n",
      "Época 36: loss 23.834954325358073\n",
      "Época 37: loss 22.29707285563151\n",
      "Época 38: loss 24.121507771809895\n",
      "Época 39: loss 23.442402903238932\n",
      "Época 40: loss 21.83688252766927\n",
      "Época 41: loss 23.88859119415283\n",
      "Época 42: loss 22.856858444213866\n",
      "Época 43: loss 22.402869288126627\n",
      "Época 44: loss 22.328481168548265\n",
      "Época 45: loss 21.003900051116943\n",
      "Época 46: loss 24.16399866739909\n",
      "Época 47: loss 22.509479268391928\n",
      "Época 48: loss 23.293896611531576\n",
      "Época 49: loss 23.869190470377603\n",
      "Época 50: loss 21.76107591313339\n",
      "Época 51: loss 23.367745018005373\n",
      "Época 52: loss 24.547415924072265\n",
      "Época 53: loss 23.421983369191487\n",
      "Época 54: loss 23.254604212443034\n",
      "Época 55: loss 21.511677678426107\n",
      "Época 56: loss 24.560704612731932\n",
      "Época 57: loss 23.072246678670247\n",
      "Época 58: loss 21.90881633758545\n",
      "Época 59: loss 22.698128573099773\n",
      "Época 60: loss 21.925386746724445\n",
      "Época 61: loss 22.386127026875815\n",
      "Época 62: loss 25.00014762878418\n",
      "Época 63: loss 22.94405288696289\n",
      "Época 64: loss 24.073130098978677\n",
      "Época 65: loss 22.61543763478597\n",
      "Época 66: loss 21.48179614455227\n",
      "Época 67: loss 22.774834632873535\n",
      "Época 68: loss 21.729717149373997\n",
      "Época 69: loss 24.546410242716473\n",
      "Época 70: loss 21.848665936787924\n",
      "Época 71: loss 22.857552274068198\n",
      "Época 72: loss 24.022865104675294\n",
      "Época 73: loss 21.799372482299805\n",
      "Época 74: loss 23.32925148010254\n",
      "Época 75: loss 23.536347325642904\n",
      "Época 76: loss 22.16911973953247\n",
      "Época 77: loss 22.18021558125814\n",
      "Época 78: loss 21.387759812672932\n",
      "Época 79: loss 22.55199940999349\n",
      "Época 80: loss 21.027306858698527\n",
      "Época 81: loss 23.155820274353026\n",
      "Época 82: loss 22.71604391733805\n",
      "Época 83: loss 24.2658717473348\n",
      "Época 84: loss 23.73628126780192\n",
      "Época 85: loss 21.17356777191162\n",
      "Época 86: loss 21.95379622777303\n",
      "Época 87: loss 22.587467384338378\n",
      "Época 88: loss 22.09385897318522\n",
      "Época 89: loss 21.00927880616727\n",
      "Época 90: loss 21.955542373657227\n",
      "Época 91: loss 21.035713386535644\n",
      "Época 92: loss 23.136661529541016\n",
      "Época 93: loss 25.512195587158203\n",
      "Época 94: loss 23.121140225728354\n",
      "Época 95: loss 22.583330472310383\n",
      "Época 96: loss 23.35012009938558\n",
      "Época 97: loss 21.69502124786377\n",
      "Época 98: loss 21.497200552622477\n",
      "Época 99: loss 23.270013491312664\n",
      "Época 100: loss 24.571848678588868\n"
     ]
    }
   ],
   "source": [
    "for epoch in range(epocas):\n",
    "    running_loss = 0.\n",
    "\n",
    "    for batch in train_loader:\n",
    "        inputs, labels = batch\n",
    "        optimizer.zero_grad()\n",
    "\n",
    "        outputs = classificador2(X=inputs) #classificador1.foward(inputs)\n",
    "        outputs = outputs.squeeze()\n",
    "        loss = error_fn(outputs, labels)\n",
    "        \n",
    "        #backpropagation\n",
    "        loss.backward()\n",
    "\n",
    "        # Atualizar os pesos\n",
    "        optimizer.step()\n",
    "\n",
    "        # erro acumulado\n",
    "        running_loss += loss.item()\n",
    "\n",
    "    print(f'Época {epoch+1}: loss {running_loss/len(train_loader)}')"
   ]
  },
  {
   "cell_type": "code",
   "execution_count": 59,
   "metadata": {},
   "outputs": [
    {
     "data": {
      "text/plain": [
       "NeuralNet(\n",
       "  (layers): Sequential(\n",
       "    (0): Linear(in_features=30, out_features=16, bias=True)\n",
       "    (1): ReLU()\n",
       "    (2): Dropout(p=0.2, inplace=False)\n",
       "    (3): Linear(in_features=16, out_features=16, bias=True)\n",
       "    (4): ReLU()\n",
       "    (5): Dropout(p=0.2, inplace=False)\n",
       "    (6): Linear(in_features=16, out_features=1, bias=True)\n",
       "    (7): Sigmoid()\n",
       "  )\n",
       ")"
      ]
     },
     "execution_count": 59,
     "metadata": {},
     "output_type": "execute_result"
    }
   ],
   "source": [
    "classificador2.eval()"
   ]
  },
  {
   "cell_type": "code",
   "execution_count": 60,
   "metadata": {},
   "outputs": [],
   "source": [
    "y_pred = classificador2(X_test_torch)"
   ]
  },
  {
   "cell_type": "code",
   "execution_count": 61,
   "metadata": {},
   "outputs": [],
   "source": [
    "y_pred = y_pred.detach().numpy()"
   ]
  },
  {
   "cell_type": "code",
   "execution_count": 62,
   "metadata": {},
   "outputs": [],
   "source": [
    "y_pred = y_pred > 0.5"
   ]
  },
  {
   "cell_type": "code",
   "execution_count": 63,
   "metadata": {},
   "outputs": [
    {
     "data": {
      "text/plain": [
       "0.6666666666666666"
      ]
     },
     "execution_count": 63,
     "metadata": {},
     "output_type": "execute_result"
    }
   ],
   "source": [
    "accuracy_score(y_test, y_pred)"
   ]
  },
  {
   "cell_type": "code",
   "execution_count": null,
   "metadata": {},
   "outputs": [],
   "source": []
  }
 ],
 "metadata": {
  "kernelspec": {
   "display_name": "Python 3",
   "language": "python",
   "name": "python3"
  },
  "language_info": {
   "codemirror_mode": {
    "name": "ipython",
    "version": 3
   },
   "file_extension": ".py",
   "mimetype": "text/x-python",
   "name": "python",
   "nbconvert_exporter": "python",
   "pygments_lexer": "ipython3",
   "version": "3.10.6"
  },
  "orig_nbformat": 4
 },
 "nbformat": 4,
 "nbformat_minor": 2
}
